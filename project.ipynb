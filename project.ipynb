{
 "cells": [
  {
   "cell_type": "code",
   "execution_count": 1,
   "outputs": [],
   "source": [
    "import pandas as pd\n",
    "import re\n",
    "from keybert import KeyBERT\n",
    "import yfinance as yf\n",
    "import time\n",
    "import random\n",
    "import numpy as np\n",
    "\n",
    "news_raw = pd.read_csv(\"C:/projectnasdaq/news_raw.csv\", encoding='latin1')\n",
    "nasdaq_stock = pd.read_csv(\"C:/projectnasdaq/nasdaq_stocks.csv\", encoding='latin1')\n",
    "rep_stock = pd.read_csv(\"C:/projectnasdaq/nasdaq_stocks_refine_total.csv\", encoding='latin1')\n",
    "\n",
    "news_raw = news_raw.head(1000)\n",
    "news_raw = news_raw[['news_id','title','summary']]\n",
    "nasdaq_stock = nasdaq_stock[['pk','symbol','name']]\n",
    "rep_stock = rep_stock[['pk','symbol','name','name_a']]\n",
    "\n",
    "# new_raw 데이터 전처리\n",
    "news_raw['summary'] = news_raw['summary'].str.lower()\n",
    "news_raw['summary'] = news_raw['summary'].apply(lambda x: re.sub('[^a-zA-Z\\d&]', ' ', str(x)).strip())\n",
    "self_stop_words = {'bloomberg'}\n",
    "news_raw['summary'].replace(self_stop_words, '', regex=True, inplace=True)\n",
    "\n",
    "# news_raw 데이터 토큰화\n",
    "news_raw['tokenize'] = 0\n",
    "news_raw['tokenize'] = news_raw['summary'].str.split(\" \")\n",
    "news_raw['tokenize'] = news_raw['tokenize'].apply(lambda x: [i for i in x if i != \"\" and i != \" \"])\n",
    "\n",
    "news_raw['company_name'] = 0\n",
    "news_raw['keyword'] = 0 # keybert로 뽑아낸 키워드 컬럼\n",
    "news_raw['keyword2'] = 0\n",
    "\n",
    "# list에 담아주기\n",
    "tokenize_list = news_raw['tokenize']\n",
    "rep_list = rep_stock['name_a'].str.split(\",\")\n",
    "\n",
    "# 맵핑한 데이터 저장하기 위한 csv파일 생성\n",
    "project_result = pd.DataFrame(columns=['news_id', 'company_word','pk'])"
   ],
   "metadata": {
    "collapsed": false,
    "pycharm": {
     "name": "#%%\n"
    }
   }
  },
  {
   "cell_type": "code",
   "execution_count": 2,
   "outputs": [
    {
     "data": {
      "text/plain": "    news_id                                              title  \\\n0    345585  Nestle Outshines Rivals With Revenue Growth Le...   \n1    345586  Total Makes Surprise Profit as Trading Gains O...   \n2    345590  Airbus Follows Boeing in Paring Output to Weat...   \n3    345591  Virus Uptick Imperils South Europe's Nascent T...   \n4    345595  PG&E Fire Insurance Costs Skyrocket After Bank...   \n..      ...                                                ...   \n995  443773  Localiza to Form $9 Billion Car-Rental Giant W...   \n996  443778  Mendoza Province Is First to Restructure After...   \n997  443779  Manufacturing Keeps German Economy on a Recove...   \n998  443780  ECB Must Limit Emergency Powers to Temporary C...   \n999  443781  Citi Pledges to Become Antiracist, Review Inte...   \n\n                                               summary  \\\n0         nestle sa sailed past ailing consumer goo...   \n1         total se made a surprise profit after  ve...   \n2         airbus se cut back wide body jet producti...   \n3         nadine scheiner s efforts to travel from ...   \n4         pg&e corp  is finding it very costly to b...   \n..                                                 ...   \n995       localiza rent a car sa and unidas  two of...   \n996       argentina s mendoza province has reached ...   \n997       german factories kept europe s biggest ec...   \n998       the european central bank risks legal tro...   \n999       citigroup inc  will spend  1 billion over...   \n\n                                              tokenize  company_name  keyword  \\\n0    [nestle, sa, sailed, past, ailing, consumer, g...             0        0   \n1    [total, se, made, a, surprise, profit, after, ...             0        0   \n2    [airbus, se, cut, back, wide, body, jet, produ...             0        0   \n3    [nadine, scheiner, s, efforts, to, travel, fro...             0        0   \n4    [pg&e, corp, is, finding, it, very, costly, to...             0        0   \n..                                                 ...           ...      ...   \n995  [localiza, rent, a, car, sa, and, unidas, two,...             0        0   \n996  [argentina, s, mendoza, province, has, reached...             0        0   \n997  [german, factories, kept, europe, s, biggest, ...             0        0   \n998  [the, european, central, bank, risks, legal, t...             0        0   \n999  [citigroup, inc, will, spend, 1, billion, over...             0        0   \n\n     keyword2  \n0           0  \n1           0  \n2           0  \n3           0  \n4           0  \n..        ...  \n995         0  \n996         0  \n997         0  \n998         0  \n999         0  \n\n[1000 rows x 7 columns]",
      "text/html": "<div>\n<style scoped>\n    .dataframe tbody tr th:only-of-type {\n        vertical-align: middle;\n    }\n\n    .dataframe tbody tr th {\n        vertical-align: top;\n    }\n\n    .dataframe thead th {\n        text-align: right;\n    }\n</style>\n<table border=\"1\" class=\"dataframe\">\n  <thead>\n    <tr style=\"text-align: right;\">\n      <th></th>\n      <th>news_id</th>\n      <th>title</th>\n      <th>summary</th>\n      <th>tokenize</th>\n      <th>company_name</th>\n      <th>keyword</th>\n      <th>keyword2</th>\n    </tr>\n  </thead>\n  <tbody>\n    <tr>\n      <th>0</th>\n      <td>345585</td>\n      <td>Nestle Outshines Rivals With Revenue Growth Le...</td>\n      <td>nestle sa sailed past ailing consumer goo...</td>\n      <td>[nestle, sa, sailed, past, ailing, consumer, g...</td>\n      <td>0</td>\n      <td>0</td>\n      <td>0</td>\n    </tr>\n    <tr>\n      <th>1</th>\n      <td>345586</td>\n      <td>Total Makes Surprise Profit as Trading Gains O...</td>\n      <td>total se made a surprise profit after  ve...</td>\n      <td>[total, se, made, a, surprise, profit, after, ...</td>\n      <td>0</td>\n      <td>0</td>\n      <td>0</td>\n    </tr>\n    <tr>\n      <th>2</th>\n      <td>345590</td>\n      <td>Airbus Follows Boeing in Paring Output to Weat...</td>\n      <td>airbus se cut back wide body jet producti...</td>\n      <td>[airbus, se, cut, back, wide, body, jet, produ...</td>\n      <td>0</td>\n      <td>0</td>\n      <td>0</td>\n    </tr>\n    <tr>\n      <th>3</th>\n      <td>345591</td>\n      <td>Virus Uptick Imperils South Europe's Nascent T...</td>\n      <td>nadine scheiner s efforts to travel from ...</td>\n      <td>[nadine, scheiner, s, efforts, to, travel, fro...</td>\n      <td>0</td>\n      <td>0</td>\n      <td>0</td>\n    </tr>\n    <tr>\n      <th>4</th>\n      <td>345595</td>\n      <td>PG&amp;E Fire Insurance Costs Skyrocket After Bank...</td>\n      <td>pg&amp;e corp  is finding it very costly to b...</td>\n      <td>[pg&amp;e, corp, is, finding, it, very, costly, to...</td>\n      <td>0</td>\n      <td>0</td>\n      <td>0</td>\n    </tr>\n    <tr>\n      <th>...</th>\n      <td>...</td>\n      <td>...</td>\n      <td>...</td>\n      <td>...</td>\n      <td>...</td>\n      <td>...</td>\n      <td>...</td>\n    </tr>\n    <tr>\n      <th>995</th>\n      <td>443773</td>\n      <td>Localiza to Form $9 Billion Car-Rental Giant W...</td>\n      <td>localiza rent a car sa and unidas  two of...</td>\n      <td>[localiza, rent, a, car, sa, and, unidas, two,...</td>\n      <td>0</td>\n      <td>0</td>\n      <td>0</td>\n    </tr>\n    <tr>\n      <th>996</th>\n      <td>443778</td>\n      <td>Mendoza Province Is First to Restructure After...</td>\n      <td>argentina s mendoza province has reached ...</td>\n      <td>[argentina, s, mendoza, province, has, reached...</td>\n      <td>0</td>\n      <td>0</td>\n      <td>0</td>\n    </tr>\n    <tr>\n      <th>997</th>\n      <td>443779</td>\n      <td>Manufacturing Keeps German Economy on a Recove...</td>\n      <td>german factories kept europe s biggest ec...</td>\n      <td>[german, factories, kept, europe, s, biggest, ...</td>\n      <td>0</td>\n      <td>0</td>\n      <td>0</td>\n    </tr>\n    <tr>\n      <th>998</th>\n      <td>443780</td>\n      <td>ECB Must Limit Emergency Powers to Temporary C...</td>\n      <td>the european central bank risks legal tro...</td>\n      <td>[the, european, central, bank, risks, legal, t...</td>\n      <td>0</td>\n      <td>0</td>\n      <td>0</td>\n    </tr>\n    <tr>\n      <th>999</th>\n      <td>443781</td>\n      <td>Citi Pledges to Become Antiracist, Review Inte...</td>\n      <td>citigroup inc  will spend  1 billion over...</td>\n      <td>[citigroup, inc, will, spend, 1, billion, over...</td>\n      <td>0</td>\n      <td>0</td>\n      <td>0</td>\n    </tr>\n  </tbody>\n</table>\n<p>1000 rows × 7 columns</p>\n</div>"
     },
     "execution_count": 2,
     "metadata": {},
     "output_type": "execute_result"
    }
   ],
   "source": [
    "news_raw"
   ],
   "metadata": {
    "collapsed": false,
    "pycharm": {
     "name": "#%%\n"
    }
   }
  },
  {
   "cell_type": "markdown",
   "source": [
    "## 회사 이름 추출 => 추출 완료 ( company_word.csv 에 저장 )"
   ],
   "metadata": {
    "collapsed": false,
    "pycharm": {
     "name": "#%% md\n"
    }
   }
  },
  {
   "cell_type": "code",
   "execution_count": null,
   "outputs": [],
   "source": [
    "# 대표단어 csv파일에서 대표단어가 포함되면 맵핑\n",
    "i = 0\n",
    "\n",
    "for token_num, token in enumerate(tokenize_list):  # news_raw data 토큰화\n",
    "    for rep_num, rep in enumerate(rep_list):  # 대표단어 csv파일에서 대표단어에 해당\n",
    "        i = i + 1\n",
    "        if len(rep) == 1:\n",
    "            if rep[0] in token:\n",
    "                project_result.loc[i] = [news_raw['news_id'][token_num], rep[0], rep_stock['pk'][rep_num]]\n",
    "\n",
    "        elif len(rep) == 2:  # 대표단어가 2개로 된 단어일 때\n",
    "            if rep[0] in token:  # 대표단어의 첫번째 단어가 org단어에 있으면\n",
    "                found = token.index(rep[0])  # 대표단어의 첫번째 단어와 일치하는 org단어의 인덱스 위치 번호\n",
    "                try:\n",
    "                    search = found + 1  # stocklist의 첫번째 단어가 org에 포함됐을때 그 다음 단어\n",
    "                    search_found = token[search]  # org의 (+1을 한) 다음 단어에 해당\n",
    "                    if rep[1] == search_found:\n",
    "                        project_result.loc[i] = [news_raw['news_id'][token_num], rep[0] + \" \" + rep[1],\n",
    "                                                 rep_stock['pk'][rep_num]]\n",
    "                except IndexError:\n",
    "                    continue\n",
    "\n",
    "        elif len(rep) == 3:\n",
    "            if rep[0] in token:\n",
    "                try:\n",
    "                    search_found = token[token.index(rep[0]) + 1]\n",
    "                    if rep[1] == search_found:\n",
    "                        two_found = token[token.index(rep[0]) + 2]\n",
    "                        if rep[2] == two_found:\n",
    "                            project_result.loc[i] = [news_raw['news_id'][token_num],\n",
    "                                                     rep[0] + \" \" + rep[1] + \" \" + rep[2], rep_stock['pk'][rep_num]]\n",
    "                except IndexError:\n",
    "                    continue"
   ],
   "metadata": {
    "collapsed": false,
    "pycharm": {
     "name": "#%%\n"
    }
   }
  },
  {
   "cell_type": "code",
   "execution_count": 8,
   "outputs": [],
   "source": [
    "project_result = pd.merge(project_result, nasdaq_stock, how='left', left_on='pk', right_on='pk')"
   ],
   "metadata": {
    "collapsed": false,
    "pycharm": {
     "name": "#%%\n"
    }
   }
  },
  {
   "cell_type": "code",
   "execution_count": 177,
   "outputs": [
    {
     "data": {
      "text/plain": "      Unnamed: 0 news_id     company_word      pk symbol  \\\n0              0  345585        coca cola  4290.0     KO   \n1              1  345585         unilever  7628.0     UL   \n2              2  345585           diageo  2152.0    DEO   \n3              3  345585   anheuser busch  1306.0    BUD   \n4              4  345585        starbucks  6606.0   SBUX   \n...          ...     ...              ...     ...    ...   \n2015        2015  443773  bank of america   860.0    BAC   \n2016        2016  443778         first of  2872.0   FLIC   \n2017        2017  443779              ihs  3865.0    IHS   \n2018        2018  443780     the european  2427.0    EEA   \n2019        2019  443781        citigroup  1360.0      C   \n\n                                                 name  \n0                             Coca-Cola Company (The)  \n1                                        Unilever PLC  \n2                                          Diageo plc  \n3     Anheuser-Busch Inbev SA Sponsored ADR (Belgium)  \n4                               Starbucks Corporation  \n...                                               ...  \n2015                      Bank of America Corporation  \n2016                 First of Long Island Corporation  \n2017              IHS Holding Limited Ordinary Shares  \n2018                     The European Equity Fund Inc  \n2019                                    Citigroup Inc  \n\n[2020 rows x 6 columns]",
      "text/html": "<div>\n<style scoped>\n    .dataframe tbody tr th:only-of-type {\n        vertical-align: middle;\n    }\n\n    .dataframe tbody tr th {\n        vertical-align: top;\n    }\n\n    .dataframe thead th {\n        text-align: right;\n    }\n</style>\n<table border=\"1\" class=\"dataframe\">\n  <thead>\n    <tr style=\"text-align: right;\">\n      <th></th>\n      <th>Unnamed: 0</th>\n      <th>news_id</th>\n      <th>company_word</th>\n      <th>pk</th>\n      <th>symbol</th>\n      <th>name</th>\n    </tr>\n  </thead>\n  <tbody>\n    <tr>\n      <th>0</th>\n      <td>0</td>\n      <td>345585</td>\n      <td>coca cola</td>\n      <td>4290.0</td>\n      <td>KO</td>\n      <td>Coca-Cola Company (The)</td>\n    </tr>\n    <tr>\n      <th>1</th>\n      <td>1</td>\n      <td>345585</td>\n      <td>unilever</td>\n      <td>7628.0</td>\n      <td>UL</td>\n      <td>Unilever PLC</td>\n    </tr>\n    <tr>\n      <th>2</th>\n      <td>2</td>\n      <td>345585</td>\n      <td>diageo</td>\n      <td>2152.0</td>\n      <td>DEO</td>\n      <td>Diageo plc</td>\n    </tr>\n    <tr>\n      <th>3</th>\n      <td>3</td>\n      <td>345585</td>\n      <td>anheuser busch</td>\n      <td>1306.0</td>\n      <td>BUD</td>\n      <td>Anheuser-Busch Inbev SA Sponsored ADR (Belgium)</td>\n    </tr>\n    <tr>\n      <th>4</th>\n      <td>4</td>\n      <td>345585</td>\n      <td>starbucks</td>\n      <td>6606.0</td>\n      <td>SBUX</td>\n      <td>Starbucks Corporation</td>\n    </tr>\n    <tr>\n      <th>...</th>\n      <td>...</td>\n      <td>...</td>\n      <td>...</td>\n      <td>...</td>\n      <td>...</td>\n      <td>...</td>\n    </tr>\n    <tr>\n      <th>2015</th>\n      <td>2015</td>\n      <td>443773</td>\n      <td>bank of america</td>\n      <td>860.0</td>\n      <td>BAC</td>\n      <td>Bank of America Corporation</td>\n    </tr>\n    <tr>\n      <th>2016</th>\n      <td>2016</td>\n      <td>443778</td>\n      <td>first of</td>\n      <td>2872.0</td>\n      <td>FLIC</td>\n      <td>First of Long Island Corporation</td>\n    </tr>\n    <tr>\n      <th>2017</th>\n      <td>2017</td>\n      <td>443779</td>\n      <td>ihs</td>\n      <td>3865.0</td>\n      <td>IHS</td>\n      <td>IHS Holding Limited Ordinary Shares</td>\n    </tr>\n    <tr>\n      <th>2018</th>\n      <td>2018</td>\n      <td>443780</td>\n      <td>the european</td>\n      <td>2427.0</td>\n      <td>EEA</td>\n      <td>The European Equity Fund Inc</td>\n    </tr>\n    <tr>\n      <th>2019</th>\n      <td>2019</td>\n      <td>443781</td>\n      <td>citigroup</td>\n      <td>1360.0</td>\n      <td>C</td>\n      <td>Citigroup Inc</td>\n    </tr>\n  </tbody>\n</table>\n<p>2020 rows × 6 columns</p>\n</div>"
     },
     "execution_count": 177,
     "metadata": {},
     "output_type": "execute_result"
    }
   ],
   "source": [
    "company_word = pd.read_csv('C:/projectnasdaq/project2/company_word.csv')\n",
    "company_word"
   ],
   "metadata": {
    "collapsed": false,
    "pycharm": {
     "name": "#%%\n"
    }
   }
  },
  {
   "cell_type": "markdown",
   "source": [
    "## 키워드 추출 ( Keybert 사용 )=> 추출 완료 ( keyword.csv 에 저장 )"
   ],
   "metadata": {
    "collapsed": false,
    "pycharm": {
     "name": "#%% md\n"
    }
   }
  },
  {
   "cell_type": "code",
   "execution_count": null,
   "outputs": [],
   "source": [
    "# Keybert로 키워드 추출 ( 키워드 1-2 자리까지 )\n",
    "summaries = news_raw['summary']\n",
    "\n",
    "for sum_num, summary in enumerate(summaries):\n",
    "    kw_model = KeyBERT()\n",
    "    keywords = kw_model.extract_keywords(summary)\n",
    "    news_raw['keyword'][sum_num] = kw_model.extract_keywords(summary, keyphrase_ngram_range=(1, 1))\n",
    "    news_raw['keyword2'][sum_num] = kw_model.extract_keywords(summary, keyphrase_ngram_range=(1, 2))\n",
    "#news_raw.to_csv('C:/projectnasdaq/project2/keyword.csv')"
   ],
   "metadata": {
    "collapsed": false,
    "pycharm": {
     "name": "#%%\n"
    }
   }
  },
  {
   "cell_type": "markdown",
   "source": [
    "## 종목 정보 수집 ( yfinance 패키지 사용 )"
   ],
   "metadata": {
    "collapsed": false,
    "pycharm": {
     "name": "#%% md\n"
    }
   }
  },
  {
   "cell_type": "code",
   "execution_count": null,
   "outputs": [],
   "source": [
    "# 종목코드 리스트\n",
    "stocks = nasdaq_stock['symbol']\n",
    "# 종목코드에 대한 정보 수집용 데이터프레임 생성\n",
    "stock_info = pd.DataFrame(columns=['symbol', 'info'])\n",
    "i = 0\n",
    "\n",
    "for stock_num, stock in enumerate(stocks):\n",
    "    tickers = yf.Ticker(stock)\n",
    "    ticker = tickers.info\n",
    "    i = i + 1\n",
    "    #print(stock_num,stock, \"===>>\",ticker)\n",
    "    stock_info.loc[i] = [stock, ticker]\n",
    "    time.sleep(random.uniform(3, 4))\n",
    "\n",
    "stock_info.to_csv('C:/projectnasdaq/project2/stock_info2.csv')"
   ],
   "metadata": {
    "collapsed": false,
    "pycharm": {
     "name": "#%%\n"
    }
   }
  },
  {
   "cell_type": "markdown",
   "source": [
    "## 추출된 회사 이름이랑 ( 전처리 한 ) 키워드 연결 ( company_and_keyword.csv 파일에 저장 )"
   ],
   "metadata": {
    "collapsed": false,
    "pycharm": {
     "name": "#%% md\n"
    }
   }
  },
  {
   "cell_type": "code",
   "execution_count": null,
   "outputs": [],
   "source": [
    "company_mapping = pd.read_csv('C:/projectnasdaq/project2/company_word.csv')\n",
    "keyword_mapping = pd.read_csv('C:/projectnasdaq/project2/keyword.csv')\n",
    "\n",
    "keyword_mapping['keyword'] = keyword_mapping['keyword'].apply(\n",
    "    lambda x: re.sub('[^a-zA-Z&]', ' ', str(x)).strip())  # 정규식전처리\n",
    "keyword_mapping['keyword'] = keyword_mapping['keyword'].apply(\n",
    "    lambda x: re.sub(r\"\\s+\", \" \", str(x)).strip())  # 공백 여러개 하나로\n",
    "keyword_mapping['keyword'] = keyword_mapping['keyword'].str.split(\" \")\n",
    "#keyword_mapping['keyword'].replace(' ',',', regex=True, inplace=True)\n",
    "\n",
    "keyword_mapping['keyword2'] = keyword_mapping['keyword2'].apply(lambda x: re.sub('[^a-zA-Z&]', ' ', str(x)).strip())\n",
    "keyword_mapping['keyword2'] = keyword_mapping['keyword2'].str.split(\"  \")\n",
    "# 공백으로 토큰화되거나 비어있는 내용으로 토큰화 되어있으면 지우기\n",
    "keyword_mapping['keyword2'] = keyword_mapping['keyword2'].apply(lambda x: [i for i in x if i != \"\" and i != \" \"])\n",
    "\n",
    "company_mapping[['keyword', 'keyword2']] = 0\n",
    "\n",
    "keyword_list1 = keyword_mapping['keyword']\n",
    "keyword_list2 = keyword_mapping['keyword2']\n",
    "\n",
    "keyword_id = keyword_mapping['news_id']\n",
    "company_id = company_mapping['news_id']"
   ],
   "metadata": {
    "collapsed": false,
    "pycharm": {
     "name": "#%%\n"
    }
   }
  },
  {
   "cell_type": "code",
   "execution_count": null,
   "outputs": [],
   "source": [
    "for i, j in enumerate(company_id):\n",
    "    for k, l in enumerate(keyword_id):\n",
    "        if j == l:\n",
    "            company_mapping['keyword'][i] = keyword_mapping['keyword'][k]\n",
    "            company_mapping['keyword2'][i] = keyword_mapping['keyword2'][k]\n",
    "\n",
    "#company_mapping.to_csv('C:/projectnasdaq/project2/company_and_keyword.csv')"
   ],
   "metadata": {
    "collapsed": false,
    "pycharm": {
     "name": "#%%\n"
    }
   }
  },
  {
   "cell_type": "code",
   "execution_count": 95,
   "outputs": [],
   "source": [
    "# yahoo_dataset 파일 수정 ( -> symbol name 수정 )\n",
    "yahoo_dataset = pd.read_csv('C:/projectnasdaq/project2/yahoo_dataset.csv')\n",
    "yahoo_dataset.insert(1,'new_symbol','0')\n",
    "yahoo_dataset.insert(2,'name','0')\n",
    "yahoo_dataset.insert(3,'company_word','0')"
   ],
   "metadata": {
    "collapsed": false,
    "pycharm": {
     "name": "#%%\n"
    }
   }
  },
  {
   "cell_type": "code",
   "execution_count": 98,
   "outputs": [
    {
     "data": {
      "text/plain": "          pk  symbol                                       name     name_a\n0     3359.0    GOOG                               Alphabet Inc   alphabet\n1       21.0    AAPL                                  Apple Inc      apple\n2     4996.0    MSFT                      Microsoft Corporation  microsoft\n3     3359.0    GOOG                               Alphabet Inc     google\n4     2746.0      FB                         Meta Platforms Inc   facebook\n...      ...     ...                                        ...        ...\n8260  8157.0     NaN                      XPAC Acquisition Corp         []\n8261  8181.0  YCBD^A                                  cbdMD Inc         []\n8262  8226.0     NaN                 FTAC Zeus Acquisition Corp         []\n8263  8242.0     NaN                    Zanite Acquisition Corp         []\n8264  8248.0     NaN  Zimmer Energy Transition Acquisition Corp         []\n\n[8265 rows x 4 columns]",
      "text/html": "<div>\n<style scoped>\n    .dataframe tbody tr th:only-of-type {\n        vertical-align: middle;\n    }\n\n    .dataframe tbody tr th {\n        vertical-align: top;\n    }\n\n    .dataframe thead th {\n        text-align: right;\n    }\n</style>\n<table border=\"1\" class=\"dataframe\">\n  <thead>\n    <tr style=\"text-align: right;\">\n      <th></th>\n      <th>pk</th>\n      <th>symbol</th>\n      <th>name</th>\n      <th>name_a</th>\n    </tr>\n  </thead>\n  <tbody>\n    <tr>\n      <th>0</th>\n      <td>3359.0</td>\n      <td>GOOG</td>\n      <td>Alphabet Inc</td>\n      <td>alphabet</td>\n    </tr>\n    <tr>\n      <th>1</th>\n      <td>21.0</td>\n      <td>AAPL</td>\n      <td>Apple Inc</td>\n      <td>apple</td>\n    </tr>\n    <tr>\n      <th>2</th>\n      <td>4996.0</td>\n      <td>MSFT</td>\n      <td>Microsoft Corporation</td>\n      <td>microsoft</td>\n    </tr>\n    <tr>\n      <th>3</th>\n      <td>3359.0</td>\n      <td>GOOG</td>\n      <td>Alphabet Inc</td>\n      <td>google</td>\n    </tr>\n    <tr>\n      <th>4</th>\n      <td>2746.0</td>\n      <td>FB</td>\n      <td>Meta Platforms Inc</td>\n      <td>facebook</td>\n    </tr>\n    <tr>\n      <th>...</th>\n      <td>...</td>\n      <td>...</td>\n      <td>...</td>\n      <td>...</td>\n    </tr>\n    <tr>\n      <th>8260</th>\n      <td>8157.0</td>\n      <td>NaN</td>\n      <td>XPAC Acquisition Corp</td>\n      <td>[]</td>\n    </tr>\n    <tr>\n      <th>8261</th>\n      <td>8181.0</td>\n      <td>YCBD^A</td>\n      <td>cbdMD Inc</td>\n      <td>[]</td>\n    </tr>\n    <tr>\n      <th>8262</th>\n      <td>8226.0</td>\n      <td>NaN</td>\n      <td>FTAC Zeus Acquisition Corp</td>\n      <td>[]</td>\n    </tr>\n    <tr>\n      <th>8263</th>\n      <td>8242.0</td>\n      <td>NaN</td>\n      <td>Zanite Acquisition Corp</td>\n      <td>[]</td>\n    </tr>\n    <tr>\n      <th>8264</th>\n      <td>8248.0</td>\n      <td>NaN</td>\n      <td>Zimmer Energy Transition Acquisition Corp</td>\n      <td>[]</td>\n    </tr>\n  </tbody>\n</table>\n<p>8265 rows × 4 columns</p>\n</div>"
     },
     "execution_count": 98,
     "metadata": {},
     "output_type": "execute_result"
    }
   ],
   "source": [
    "rep_stock"
   ],
   "metadata": {
    "collapsed": false,
    "pycharm": {
     "name": "#%%\n"
    }
   }
  },
  {
   "cell_type": "code",
   "execution_count": 97,
   "outputs": [
    {
     "data": {
      "text/plain": "     symbol new_symbol name company_word                      shortName  \\\n0         A          0    0            0     Agilent Technologies, Inc.   \n1        AA          0    0            0              Alcoa Corporation   \n2       AAC          0    0            0   Ares Acquisition Corporation   \n3      AACG          0    0            0          ATA Creativity Global   \n4      AACI          0    0            0     Armada Acquisition Corp. I   \n...     ...        ...  ...          ...                            ...   \n9001   ZYME          0    0            0                 Zymeworks Inc.   \n9002   ZYNE          0    0            0  Zynerba Pharmaceuticals, Inc.   \n9003   ZYXI          0    0            0                    Zynex, Inc.   \n9004   TRUE          0    0            0                  TrueCar, Inc.   \n9005    NaN          0    0            0                  Nano Labs Ltd   \n\n                           longName quoteType currency  \\\n0        Agilent Technologies, Inc.    EQUITY      USD   \n1                 Alcoa Corporation    EQUITY      USD   \n2      Ares Acquisition Corporation    EQUITY      USD   \n3             ATA Creativity Global    EQUITY      USD   \n4        Armada Acquisition Corp. I    EQUITY      USD   \n...                             ...       ...      ...   \n9001                 Zymeworks Inc.    EQUITY      USD   \n9002  Zynerba Pharmaceuticals, Inc.    EQUITY      USD   \n9003                    Zynex, Inc.    EQUITY      USD   \n9004                  TrueCar, Inc.    EQUITY      USD   \n9005                  Nano Labs Ltd    EQUITY      USD   \n\n                    regularMarketPrice                    regularMarketChange  \\\n0     {'raw': 127.19, 'fmt': '127.19'}       {'raw': 7.330002, 'fmt': '7.33'}   \n1       {'raw': 45.15, 'fmt': '45.15'}      {'raw': 0.0900002, 'fmt': '0.09'}   \n2         {'raw': 9.86, 'fmt': '9.86'}    {'raw': 0.009999275, 'fmt': '0.01'}   \n3       {'raw': 1.62, 'fmt': '1.6200'}   {'raw': 0.24000001, 'fmt': '0.2400'}   \n4         {'raw': 9.89, 'fmt': '9.89'}              {'raw': 0, 'fmt': '0.00'}   \n...                                ...                                    ...   \n9001      {'raw': 6.33, 'fmt': '6.33'}    {'raw': 0.069999695, 'fmt': '0.07'}   \n9002    {'raw': 1.26, 'fmt': '1.2600'}  {'raw': 0.110000014, 'fmt': '0.1100'}   \n9003      {'raw': 7.62, 'fmt': '7.62'}  {'raw': -0.010000229, 'fmt': '-0.01'}   \n9004    {'raw': 2.77, 'fmt': '2.7700'}            {'raw': 0, 'fmt': '0.0000'}   \n9005         {'raw': 8, 'fmt': '8.00'}     {'raw': 0.26999998, 'fmt': '0.27'}   \n\n      ...                           averageDailyVolume3Month  \\\n0     ...  {'raw': 1830575, 'fmt': '1.831M', 'longFmt': '...   \n1     ...  {'raw': 6905837, 'fmt': '6.906M', 'longFmt': '...   \n2     ...  {'raw': 394577, 'fmt': '394,577', 'longFmt': '...   \n3     ...  {'raw': 12847, 'fmt': '12,847', 'longFmt': '12...   \n4     ...  {'raw': 18308, 'fmt': '18,308', 'longFmt': '18...   \n...   ...                                                ...   \n9001  ...  {'raw': 2015414, 'fmt': '2.015M', 'longFmt': '...   \n9002  ...  {'raw': 522075, 'fmt': '522,075', 'longFmt': '...   \n9003  ...  {'raw': 441919, 'fmt': '441,919', 'longFmt': '...   \n9004  ...  {'raw': 570950, 'fmt': '570,950', 'longFmt': '...   \n9005  ...  {'raw': 282300, 'fmt': '282,300', 'longFmt': '...   \n\n                                              marketCap  \\\n0     {'raw': 37992673280, 'fmt': '37.993B', 'longFm...   \n1     {'raw': 8327872512, 'fmt': '8.328B', 'longFmt'...   \n2     {'raw': 1232499968, 'fmt': '1.232B', 'longFmt'...   \n3     {'raw': 51189732, 'fmt': '51.19M', 'longFmt': ...   \n4     {'raw': 204816960, 'fmt': '204.817M', 'longFmt...   \n...                                                 ...   \n9001  {'raw': 365691680, 'fmt': '365.692M', 'longFmt...   \n9002  {'raw': 54930960, 'fmt': '54.931M', 'longFmt':...   \n9003  {'raw': 293369984, 'fmt': '293.37M', 'longFmt'...   \n9004  {'raw': 250468672, 'fmt': '250.469M', 'longFmt...   \n9005  {'raw': 429320000, 'fmt': '429.32M', 'longFmt'...   \n\n                              trailingPE                   fiftyTwoWeekLow  \\\n0     {'raw': 30.722223, 'fmt': '30.72'}  {'raw': 112.52, 'fmt': '112.52'}   \n1      {'raw': 11.43038, 'fmt': '11.43'}    {'raw': 36.49, 'fmt': '36.49'}   \n2      {'raw': 89.63636, 'fmt': '89.64'}      {'raw': 9.66, 'fmt': '9.66'}   \n3                                    NaN    {'raw': 0.88, 'fmt': '0.8800'}   \n4                                    NaN      {'raw': 9.34, 'fmt': '9.34'}   \n...                                  ...                               ...   \n9001                                 NaN      {'raw': 4.56, 'fmt': '4.56'}   \n9002                                 NaN   {'raw': 0.836, 'fmt': '0.8360'}   \n9003   {'raw': 15.55102, 'fmt': '15.55'}      {'raw': 4.97, 'fmt': '4.97'}   \n9004                                 NaN    {'raw': 2.51, 'fmt': '2.5100'}   \n9005                                 NaN       {'raw': 6.3, 'fmt': '6.30'}   \n\n                        fiftyTwoWeekHigh                 regularMarketOpen  \\\n0       {'raw': 179.57, 'fmt': '179.57'}  {'raw': 122.12, 'fmt': '122.12'}   \n1         {'raw': 98.09, 'fmt': '98.09'}    {'raw': 47.33, 'fmt': '47.33'}   \n2           {'raw': 9.88, 'fmt': '9.88'}      {'raw': 9.85, 'fmt': '9.85'}   \n3         {'raw': 4.27, 'fmt': '4.2700'}    {'raw': 1.41, 'fmt': '1.4100'}   \n4           {'raw': 9.99, 'fmt': '9.99'}      {'raw': 9.89, 'fmt': '9.89'}   \n...                                  ...                               ...   \n9001      {'raw': 37.19, 'fmt': '37.19'}      {'raw': 6.25, 'fmt': '6.25'}   \n9002      {'raw': 4.77, 'fmt': '4.7700'}    {'raw': 1.25, 'fmt': '1.2500'}   \n9003  {'raw': 16.263636, 'fmt': '16.26'}      {'raw': 7.65, 'fmt': '7.65'}   \n9004      {'raw': 5.66, 'fmt': '5.6600'}    {'raw': 2.74, 'fmt': '2.7400'}   \n9005      {'raw': 13.39, 'fmt': '13.39'}       {'raw': 7.7, 'fmt': '7.70'}   \n\n     priceHint underlyingSymbol  \\\n0            2              NaN   \n1            2              NaN   \n2            2              NaN   \n3            4              NaN   \n4            2              NaN   \n...        ...              ...   \n9001         2              NaN   \n9002         4              NaN   \n9003         2              NaN   \n9004         4              NaN   \n9005         2              NaN   \n\n                                           company_info  \\\n0     {\"address1\": \"5301 Stevens Creek Boulevard\", \"...   \n1     {\"address1\": \"201 Isabella Street\", \"address2\"...   \n2     {\"address1\": \"245 Park Avenue\", \"address2\": \"4...   \n3     {\"address1\": \"Building No. 2\", \"address2\": \"Ea...   \n4     {\"address1\": \"2005 Market Street\", \"address2\":...   \n...                                                 ...   \n9001  {\"address1\": \"114 East 4th Avenue\", \"address2\"...   \n9002  {\"address1\": \"80 West Lancaster Avenue\", \"addr...   \n9003  {\"address1\": \"9655 Maroon Circle\", \"city\": \"En...   \n9004  {\"address1\": \"120 Broadway\", \"address2\": \"Suit...   \n9005  {\"address1\": \"Dikaiyinzuo\", \"address2\": \"30th ...   \n\n                                           finance_info  \n0     {'language': 'en-US', 'region': 'US', 'quoteTy...  \n1     {'language': 'en-US', 'region': 'US', 'quoteTy...  \n2     {'language': 'en-US', 'region': 'US', 'quoteTy...  \n3     {'language': 'en-US', 'region': 'US', 'quoteTy...  \n4     {'language': 'en-US', 'region': 'US', 'quoteTy...  \n...                                                 ...  \n9001  {'language': 'en-US', 'region': 'US', 'quoteTy...  \n9002  {'language': 'en-US', 'region': 'US', 'quoteTy...  \n9003  {'language': 'en-US', 'region': 'US', 'quoteTy...  \n9004  {'language': 'en-US', 'region': 'US', 'quoteTy...  \n9005  {'language': 'en-US', 'region': 'US', 'quoteTy...  \n\n[9006 rows x 22 columns]",
      "text/html": "<div>\n<style scoped>\n    .dataframe tbody tr th:only-of-type {\n        vertical-align: middle;\n    }\n\n    .dataframe tbody tr th {\n        vertical-align: top;\n    }\n\n    .dataframe thead th {\n        text-align: right;\n    }\n</style>\n<table border=\"1\" class=\"dataframe\">\n  <thead>\n    <tr style=\"text-align: right;\">\n      <th></th>\n      <th>symbol</th>\n      <th>new_symbol</th>\n      <th>name</th>\n      <th>company_word</th>\n      <th>shortName</th>\n      <th>longName</th>\n      <th>quoteType</th>\n      <th>currency</th>\n      <th>regularMarketPrice</th>\n      <th>regularMarketChange</th>\n      <th>...</th>\n      <th>averageDailyVolume3Month</th>\n      <th>marketCap</th>\n      <th>trailingPE</th>\n      <th>fiftyTwoWeekLow</th>\n      <th>fiftyTwoWeekHigh</th>\n      <th>regularMarketOpen</th>\n      <th>priceHint</th>\n      <th>underlyingSymbol</th>\n      <th>company_info</th>\n      <th>finance_info</th>\n    </tr>\n  </thead>\n  <tbody>\n    <tr>\n      <th>0</th>\n      <td>A</td>\n      <td>0</td>\n      <td>0</td>\n      <td>0</td>\n      <td>Agilent Technologies, Inc.</td>\n      <td>Agilent Technologies, Inc.</td>\n      <td>EQUITY</td>\n      <td>USD</td>\n      <td>{'raw': 127.19, 'fmt': '127.19'}</td>\n      <td>{'raw': 7.330002, 'fmt': '7.33'}</td>\n      <td>...</td>\n      <td>{'raw': 1830575, 'fmt': '1.831M', 'longFmt': '...</td>\n      <td>{'raw': 37992673280, 'fmt': '37.993B', 'longFm...</td>\n      <td>{'raw': 30.722223, 'fmt': '30.72'}</td>\n      <td>{'raw': 112.52, 'fmt': '112.52'}</td>\n      <td>{'raw': 179.57, 'fmt': '179.57'}</td>\n      <td>{'raw': 122.12, 'fmt': '122.12'}</td>\n      <td>2</td>\n      <td>NaN</td>\n      <td>{\"address1\": \"5301 Stevens Creek Boulevard\", \"...</td>\n      <td>{'language': 'en-US', 'region': 'US', 'quoteTy...</td>\n    </tr>\n    <tr>\n      <th>1</th>\n      <td>AA</td>\n      <td>0</td>\n      <td>0</td>\n      <td>0</td>\n      <td>Alcoa Corporation</td>\n      <td>Alcoa Corporation</td>\n      <td>EQUITY</td>\n      <td>USD</td>\n      <td>{'raw': 45.15, 'fmt': '45.15'}</td>\n      <td>{'raw': 0.0900002, 'fmt': '0.09'}</td>\n      <td>...</td>\n      <td>{'raw': 6905837, 'fmt': '6.906M', 'longFmt': '...</td>\n      <td>{'raw': 8327872512, 'fmt': '8.328B', 'longFmt'...</td>\n      <td>{'raw': 11.43038, 'fmt': '11.43'}</td>\n      <td>{'raw': 36.49, 'fmt': '36.49'}</td>\n      <td>{'raw': 98.09, 'fmt': '98.09'}</td>\n      <td>{'raw': 47.33, 'fmt': '47.33'}</td>\n      <td>2</td>\n      <td>NaN</td>\n      <td>{\"address1\": \"201 Isabella Street\", \"address2\"...</td>\n      <td>{'language': 'en-US', 'region': 'US', 'quoteTy...</td>\n    </tr>\n    <tr>\n      <th>2</th>\n      <td>AAC</td>\n      <td>0</td>\n      <td>0</td>\n      <td>0</td>\n      <td>Ares Acquisition Corporation</td>\n      <td>Ares Acquisition Corporation</td>\n      <td>EQUITY</td>\n      <td>USD</td>\n      <td>{'raw': 9.86, 'fmt': '9.86'}</td>\n      <td>{'raw': 0.009999275, 'fmt': '0.01'}</td>\n      <td>...</td>\n      <td>{'raw': 394577, 'fmt': '394,577', 'longFmt': '...</td>\n      <td>{'raw': 1232499968, 'fmt': '1.232B', 'longFmt'...</td>\n      <td>{'raw': 89.63636, 'fmt': '89.64'}</td>\n      <td>{'raw': 9.66, 'fmt': '9.66'}</td>\n      <td>{'raw': 9.88, 'fmt': '9.88'}</td>\n      <td>{'raw': 9.85, 'fmt': '9.85'}</td>\n      <td>2</td>\n      <td>NaN</td>\n      <td>{\"address1\": \"245 Park Avenue\", \"address2\": \"4...</td>\n      <td>{'language': 'en-US', 'region': 'US', 'quoteTy...</td>\n    </tr>\n    <tr>\n      <th>3</th>\n      <td>AACG</td>\n      <td>0</td>\n      <td>0</td>\n      <td>0</td>\n      <td>ATA Creativity Global</td>\n      <td>ATA Creativity Global</td>\n      <td>EQUITY</td>\n      <td>USD</td>\n      <td>{'raw': 1.62, 'fmt': '1.6200'}</td>\n      <td>{'raw': 0.24000001, 'fmt': '0.2400'}</td>\n      <td>...</td>\n      <td>{'raw': 12847, 'fmt': '12,847', 'longFmt': '12...</td>\n      <td>{'raw': 51189732, 'fmt': '51.19M', 'longFmt': ...</td>\n      <td>NaN</td>\n      <td>{'raw': 0.88, 'fmt': '0.8800'}</td>\n      <td>{'raw': 4.27, 'fmt': '4.2700'}</td>\n      <td>{'raw': 1.41, 'fmt': '1.4100'}</td>\n      <td>4</td>\n      <td>NaN</td>\n      <td>{\"address1\": \"Building No. 2\", \"address2\": \"Ea...</td>\n      <td>{'language': 'en-US', 'region': 'US', 'quoteTy...</td>\n    </tr>\n    <tr>\n      <th>4</th>\n      <td>AACI</td>\n      <td>0</td>\n      <td>0</td>\n      <td>0</td>\n      <td>Armada Acquisition Corp. I</td>\n      <td>Armada Acquisition Corp. I</td>\n      <td>EQUITY</td>\n      <td>USD</td>\n      <td>{'raw': 9.89, 'fmt': '9.89'}</td>\n      <td>{'raw': 0, 'fmt': '0.00'}</td>\n      <td>...</td>\n      <td>{'raw': 18308, 'fmt': '18,308', 'longFmt': '18...</td>\n      <td>{'raw': 204816960, 'fmt': '204.817M', 'longFmt...</td>\n      <td>NaN</td>\n      <td>{'raw': 9.34, 'fmt': '9.34'}</td>\n      <td>{'raw': 9.99, 'fmt': '9.99'}</td>\n      <td>{'raw': 9.89, 'fmt': '9.89'}</td>\n      <td>2</td>\n      <td>NaN</td>\n      <td>{\"address1\": \"2005 Market Street\", \"address2\":...</td>\n      <td>{'language': 'en-US', 'region': 'US', 'quoteTy...</td>\n    </tr>\n    <tr>\n      <th>...</th>\n      <td>...</td>\n      <td>...</td>\n      <td>...</td>\n      <td>...</td>\n      <td>...</td>\n      <td>...</td>\n      <td>...</td>\n      <td>...</td>\n      <td>...</td>\n      <td>...</td>\n      <td>...</td>\n      <td>...</td>\n      <td>...</td>\n      <td>...</td>\n      <td>...</td>\n      <td>...</td>\n      <td>...</td>\n      <td>...</td>\n      <td>...</td>\n      <td>...</td>\n      <td>...</td>\n    </tr>\n    <tr>\n      <th>9001</th>\n      <td>ZYME</td>\n      <td>0</td>\n      <td>0</td>\n      <td>0</td>\n      <td>Zymeworks Inc.</td>\n      <td>Zymeworks Inc.</td>\n      <td>EQUITY</td>\n      <td>USD</td>\n      <td>{'raw': 6.33, 'fmt': '6.33'}</td>\n      <td>{'raw': 0.069999695, 'fmt': '0.07'}</td>\n      <td>...</td>\n      <td>{'raw': 2015414, 'fmt': '2.015M', 'longFmt': '...</td>\n      <td>{'raw': 365691680, 'fmt': '365.692M', 'longFmt...</td>\n      <td>NaN</td>\n      <td>{'raw': 4.56, 'fmt': '4.56'}</td>\n      <td>{'raw': 37.19, 'fmt': '37.19'}</td>\n      <td>{'raw': 6.25, 'fmt': '6.25'}</td>\n      <td>2</td>\n      <td>NaN</td>\n      <td>{\"address1\": \"114 East 4th Avenue\", \"address2\"...</td>\n      <td>{'language': 'en-US', 'region': 'US', 'quoteTy...</td>\n    </tr>\n    <tr>\n      <th>9002</th>\n      <td>ZYNE</td>\n      <td>0</td>\n      <td>0</td>\n      <td>0</td>\n      <td>Zynerba Pharmaceuticals, Inc.</td>\n      <td>Zynerba Pharmaceuticals, Inc.</td>\n      <td>EQUITY</td>\n      <td>USD</td>\n      <td>{'raw': 1.26, 'fmt': '1.2600'}</td>\n      <td>{'raw': 0.110000014, 'fmt': '0.1100'}</td>\n      <td>...</td>\n      <td>{'raw': 522075, 'fmt': '522,075', 'longFmt': '...</td>\n      <td>{'raw': 54930960, 'fmt': '54.931M', 'longFmt':...</td>\n      <td>NaN</td>\n      <td>{'raw': 0.836, 'fmt': '0.8360'}</td>\n      <td>{'raw': 4.77, 'fmt': '4.7700'}</td>\n      <td>{'raw': 1.25, 'fmt': '1.2500'}</td>\n      <td>4</td>\n      <td>NaN</td>\n      <td>{\"address1\": \"80 West Lancaster Avenue\", \"addr...</td>\n      <td>{'language': 'en-US', 'region': 'US', 'quoteTy...</td>\n    </tr>\n    <tr>\n      <th>9003</th>\n      <td>ZYXI</td>\n      <td>0</td>\n      <td>0</td>\n      <td>0</td>\n      <td>Zynex, Inc.</td>\n      <td>Zynex, Inc.</td>\n      <td>EQUITY</td>\n      <td>USD</td>\n      <td>{'raw': 7.62, 'fmt': '7.62'}</td>\n      <td>{'raw': -0.010000229, 'fmt': '-0.01'}</td>\n      <td>...</td>\n      <td>{'raw': 441919, 'fmt': '441,919', 'longFmt': '...</td>\n      <td>{'raw': 293369984, 'fmt': '293.37M', 'longFmt'...</td>\n      <td>{'raw': 15.55102, 'fmt': '15.55'}</td>\n      <td>{'raw': 4.97, 'fmt': '4.97'}</td>\n      <td>{'raw': 16.263636, 'fmt': '16.26'}</td>\n      <td>{'raw': 7.65, 'fmt': '7.65'}</td>\n      <td>2</td>\n      <td>NaN</td>\n      <td>{\"address1\": \"9655 Maroon Circle\", \"city\": \"En...</td>\n      <td>{'language': 'en-US', 'region': 'US', 'quoteTy...</td>\n    </tr>\n    <tr>\n      <th>9004</th>\n      <td>TRUE</td>\n      <td>0</td>\n      <td>0</td>\n      <td>0</td>\n      <td>TrueCar, Inc.</td>\n      <td>TrueCar, Inc.</td>\n      <td>EQUITY</td>\n      <td>USD</td>\n      <td>{'raw': 2.77, 'fmt': '2.7700'}</td>\n      <td>{'raw': 0, 'fmt': '0.0000'}</td>\n      <td>...</td>\n      <td>{'raw': 570950, 'fmt': '570,950', 'longFmt': '...</td>\n      <td>{'raw': 250468672, 'fmt': '250.469M', 'longFmt...</td>\n      <td>NaN</td>\n      <td>{'raw': 2.51, 'fmt': '2.5100'}</td>\n      <td>{'raw': 5.66, 'fmt': '5.6600'}</td>\n      <td>{'raw': 2.74, 'fmt': '2.7400'}</td>\n      <td>4</td>\n      <td>NaN</td>\n      <td>{\"address1\": \"120 Broadway\", \"address2\": \"Suit...</td>\n      <td>{'language': 'en-US', 'region': 'US', 'quoteTy...</td>\n    </tr>\n    <tr>\n      <th>9005</th>\n      <td>NaN</td>\n      <td>0</td>\n      <td>0</td>\n      <td>0</td>\n      <td>Nano Labs Ltd</td>\n      <td>Nano Labs Ltd</td>\n      <td>EQUITY</td>\n      <td>USD</td>\n      <td>{'raw': 8, 'fmt': '8.00'}</td>\n      <td>{'raw': 0.26999998, 'fmt': '0.27'}</td>\n      <td>...</td>\n      <td>{'raw': 282300, 'fmt': '282,300', 'longFmt': '...</td>\n      <td>{'raw': 429320000, 'fmt': '429.32M', 'longFmt'...</td>\n      <td>NaN</td>\n      <td>{'raw': 6.3, 'fmt': '6.30'}</td>\n      <td>{'raw': 13.39, 'fmt': '13.39'}</td>\n      <td>{'raw': 7.7, 'fmt': '7.70'}</td>\n      <td>2</td>\n      <td>NaN</td>\n      <td>{\"address1\": \"Dikaiyinzuo\", \"address2\": \"30th ...</td>\n      <td>{'language': 'en-US', 'region': 'US', 'quoteTy...</td>\n    </tr>\n  </tbody>\n</table>\n<p>9006 rows × 22 columns</p>\n</div>"
     },
     "execution_count": 97,
     "metadata": {},
     "output_type": "execute_result"
    }
   ],
   "source": [
    "yahoo_dataset"
   ],
   "metadata": {
    "collapsed": false,
    "pycharm": {
     "name": "#%%\n"
    }
   }
  },
  {
   "cell_type": "code",
   "execution_count": 106,
   "outputs": [
    {
     "name": "stderr",
     "output_type": "stream",
     "text": [
      "C:\\Users\\q1035\\anaconda3\\envs\\intern_lv2\\lib\\site-packages\\ipykernel_launcher.py:8: SettingWithCopyWarning: \n",
      "A value is trying to be set on a copy of a slice from a DataFrame\n",
      "\n",
      "See the caveats in the documentation: https://pandas.pydata.org/pandas-docs/stable/user_guide/indexing.html#returning-a-view-versus-a-copy\n",
      "  \n",
      "C:\\Users\\q1035\\anaconda3\\envs\\intern_lv2\\lib\\site-packages\\ipykernel_launcher.py:9: SettingWithCopyWarning: \n",
      "A value is trying to be set on a copy of a slice from a DataFrame\n",
      "\n",
      "See the caveats in the documentation: https://pandas.pydata.org/pandas-docs/stable/user_guide/indexing.html#returning-a-view-versus-a-copy\n",
      "  if __name__ == '__main__':\n",
      "C:\\Users\\q1035\\anaconda3\\envs\\intern_lv2\\lib\\site-packages\\ipykernel_launcher.py:10: SettingWithCopyWarning: \n",
      "A value is trying to be set on a copy of a slice from a DataFrame\n",
      "\n",
      "See the caveats in the documentation: https://pandas.pydata.org/pandas-docs/stable/user_guide/indexing.html#returning-a-view-versus-a-copy\n",
      "  # Remove the CWD from sys.path while we load stuff.\n"
     ]
    }
   ],
   "source": [
    "# yahoo_dataset 파일 수정 ( -> symbol name 수정 )\n",
    "yahoo_dataset_symbol = yahoo_dataset['symbol']\n",
    "rep_stock_symbol = rep_stock['symbol']\n",
    "\n",
    "for i, j in enumerate(yahoo_dataset_symbol):\n",
    "    for k, l in enumerate(rep_stock_symbol):\n",
    "        if j == l:\n",
    "            yahoo_dataset['new_symbol'][i] = rep_stock['symbol'][k]\n",
    "            yahoo_dataset['name'][i] = rep_stock['name'][k]\n",
    "            yahoo_dataset['company_word'][i] = rep_stock['name_a'][k]\n",
    "            break"
   ],
   "metadata": {
    "collapsed": false,
    "pycharm": {
     "name": "#%%\n"
    }
   }
  },
  {
   "cell_type": "code",
   "execution_count": 108,
   "outputs": [],
   "source": [
    "# yahoo_dataset 컬럼 정리\n",
    "yahoo_dataset.drop(columns=[\"quoteType\", \"currency\", 'regularMarketPrice', 'regularMarketChange', 'regularMarketChangePercent',\n",
    "             'regularMarketVolume', 'averageDailyVolume3Month', 'marketCap', 'trailingPE', 'fiftyTwoWeekLow',\n",
    "             'fiftyTwoWeekHigh', 'regularMarketOpen', 'priceHint', 'underlyingSymbol'], inplace=True)\n",
    "yahoo_dataset.to_csv('C:/projectnasdaq/project2/yahoo_dataset_mapping.csv')"
   ],
   "metadata": {
    "collapsed": false,
    "pycharm": {
     "name": "#%%\n"
    }
   }
  },
  {
   "cell_type": "code",
   "execution_count": 156,
   "outputs": [
    {
     "data": {
      "text/plain": "0                coca cola\n1                 unilever\n2                   diageo\n3           anheuser busch\n4                starbucks\n              ...         \n425              delta air\n426        goodrx holdings\n427             spi energy\n428    petroleo brasileiro\n429             braskem sa\nName: company_word_same, Length: 430, dtype: object"
     },
     "execution_count": 156,
     "metadata": {},
     "output_type": "execute_result"
    }
   ],
   "source": [
    "# company단어들 하나씩만 list에 담기 -> 단어 이름이 같은 종목명들의 키워드 모으기 위해서\n",
    "company_and_keyword = pd.read_csv('C:/projectnasdaq/project2/company_and_keyword.csv')\n",
    "company_and_keyword.drop(columns=[\"Unnamed: 0\", 'Unnamed: 0.1'], inplace=True)\n",
    "company_word = company_and_keyword['company_word']\n",
    "\n",
    "company_word_same_list = []\n",
    "for company in company_word:\n",
    "    if company not in company_word_same_list:\n",
    "        company_word_same_list.append(company)\n",
    "\n",
    "company_word_sames = pd.DataFrame(company_word_same_list, columns=['company_word_same'])\n",
    "company_word_same = company_word_sames['company_word_same']"
   ],
   "metadata": {
    "collapsed": false,
    "pycharm": {
     "name": "#%%\n"
    }
   }
  },
  {
   "cell_type": "code",
   "execution_count": 181,
   "outputs": [],
   "source": [
    "# 키워드랑 company_name이랑 데이터프레임에서 맵핑 시키기위한 새로운 dataframe 생성\n",
    "company__name = pd.DataFrame(columns=['company', 'keyword', 'keyword2'])\n",
    "\n",
    "# 딕셔너리를 { news_id : keyword } 형태로 만들기 위해서 index를 news_id로 설정\n",
    "company_and_keyword = company_and_keyword.set_index(keys='news_id', drop=False, inplace=False)"
   ],
   "metadata": {
    "collapsed": false,
    "pycharm": {
     "name": "#%%\n"
    }
   }
  },
  {
   "cell_type": "code",
   "execution_count": 182,
   "outputs": [
    {
     "data": {
      "text/plain": "                 company                                            keyword  \\\n0              coca cola  {'345585': '['nestle', 'starbucks', 'brands', ...   \n1               unilever  {'345585': '['nestle', 'starbucks', 'brands', ...   \n2                 diageo  {'345585': '['nestle', 'starbucks', 'brands', ...   \n3         anheuser busch  {'345585': '['nestle', 'starbucks', 'brands', ...   \n4              starbucks  {'345585': '['nestle', 'starbucks', 'brands', ...   \n..                   ...                                                ...   \n425            delta air  {'443844': '['pandemic', 'airline', 'airlines'...   \n426      goodrx holdings  {'443702': '['recession', 'stocks', 'stocksthe...   \n427           spi energy  {'443710': '['tesla', 'ev', 'spi', 'stocks', '...   \n428  petroleo brasileiro  {'443728': '['vitol', 'indictment', 'prosecuto...   \n429           braskem sa  {'443728': '['vitol', 'indictment', 'prosecuto...   \n\n                                              keyword2  \n0    {'345585': '['nestle sa', 'nestle', 'underperf...  \n1    {'345585': '['nestle sa', 'nestle', 'underperf...  \n2    {'345585': '['nestle sa', 'nestle', 'underperf...  \n3    {'345585': '['nestle sa', 'nestle', 'underperf...  \n4    {'345585': '['nestle sa', 'nestle', 'underperf...  \n..                                                 ...  \n425  {'443844': '['airline inevitable', 'pandemic c...  \n426  {'443702': '['rampant stock', ' stocks slumped...  \n427  {'443710': '['energy stocks', ' spi stock', 'i...  \n428  {'443728': '['bribes vitol', 'vitol firm', 'au...  \n429  {'443728': '['bribes vitol', 'vitol firm', 'au...  \n\n[430 rows x 3 columns]",
      "text/html": "<div>\n<style scoped>\n    .dataframe tbody tr th:only-of-type {\n        vertical-align: middle;\n    }\n\n    .dataframe tbody tr th {\n        vertical-align: top;\n    }\n\n    .dataframe thead th {\n        text-align: right;\n    }\n</style>\n<table border=\"1\" class=\"dataframe\">\n  <thead>\n    <tr style=\"text-align: right;\">\n      <th></th>\n      <th>company</th>\n      <th>keyword</th>\n      <th>keyword2</th>\n    </tr>\n  </thead>\n  <tbody>\n    <tr>\n      <th>0</th>\n      <td>coca cola</td>\n      <td>{'345585': '['nestle', 'starbucks', 'brands', ...</td>\n      <td>{'345585': '['nestle sa', 'nestle', 'underperf...</td>\n    </tr>\n    <tr>\n      <th>1</th>\n      <td>unilever</td>\n      <td>{'345585': '['nestle', 'starbucks', 'brands', ...</td>\n      <td>{'345585': '['nestle sa', 'nestle', 'underperf...</td>\n    </tr>\n    <tr>\n      <th>2</th>\n      <td>diageo</td>\n      <td>{'345585': '['nestle', 'starbucks', 'brands', ...</td>\n      <td>{'345585': '['nestle sa', 'nestle', 'underperf...</td>\n    </tr>\n    <tr>\n      <th>3</th>\n      <td>anheuser busch</td>\n      <td>{'345585': '['nestle', 'starbucks', 'brands', ...</td>\n      <td>{'345585': '['nestle sa', 'nestle', 'underperf...</td>\n    </tr>\n    <tr>\n      <th>4</th>\n      <td>starbucks</td>\n      <td>{'345585': '['nestle', 'starbucks', 'brands', ...</td>\n      <td>{'345585': '['nestle sa', 'nestle', 'underperf...</td>\n    </tr>\n    <tr>\n      <th>...</th>\n      <td>...</td>\n      <td>...</td>\n      <td>...</td>\n    </tr>\n    <tr>\n      <th>425</th>\n      <td>delta air</td>\n      <td>{'443844': '['pandemic', 'airline', 'airlines'...</td>\n      <td>{'443844': '['airline inevitable', 'pandemic c...</td>\n    </tr>\n    <tr>\n      <th>426</th>\n      <td>goodrx holdings</td>\n      <td>{'443702': '['recession', 'stocks', 'stocksthe...</td>\n      <td>{'443702': '['rampant stock', ' stocks slumped...</td>\n    </tr>\n    <tr>\n      <th>427</th>\n      <td>spi energy</td>\n      <td>{'443710': '['tesla', 'ev', 'spi', 'stocks', '...</td>\n      <td>{'443710': '['energy stocks', ' spi stock', 'i...</td>\n    </tr>\n    <tr>\n      <th>428</th>\n      <td>petroleo brasileiro</td>\n      <td>{'443728': '['vitol', 'indictment', 'prosecuto...</td>\n      <td>{'443728': '['bribes vitol', 'vitol firm', 'au...</td>\n    </tr>\n    <tr>\n      <th>429</th>\n      <td>braskem sa</td>\n      <td>{'443728': '['vitol', 'indictment', 'prosecuto...</td>\n      <td>{'443728': '['bribes vitol', 'vitol firm', 'au...</td>\n    </tr>\n  </tbody>\n</table>\n<p>430 rows × 3 columns</p>\n</div>"
     },
     "execution_count": 182,
     "metadata": {},
     "output_type": "execute_result"
    }
   ],
   "source": [
    "# company__name에 대한 키워드들 리스트로 모아서 column에 넣기\n",
    "for i, j in enumerate(company_word_same):\n",
    "    company__name.loc[i] = [j, company_and_keyword[company_and_keyword['company_word'] == j]['keyword'].to_dict(), company_and_keyword[company_and_keyword['company_word'] == j]['keyword2'].to_dict()]"
   ],
   "metadata": {
    "collapsed": false,
    "pycharm": {
     "name": "#%%\n"
    }
   }
  },
  {
   "cell_type": "code",
   "execution_count": 183,
   "outputs": [],
   "source": [
    "# company__name.csv에 column 삽입\n",
    "company__name.insert(0, 'symbol','0')\n",
    "company__name.insert(1, 'name','0')\n",
    "company__name['shortName'] = 0\n",
    "company__name['longName'] = 0\n",
    "\n",
    "yahoo_dataset_mapping = pd.read_csv('C:/projectnasdaq/project2/yahoo_dataset_mapping.csv')\n",
    "company_word = pd.read_csv('C:/projectnasdaq/project2/company_word.csv')"
   ],
   "metadata": {
    "collapsed": false,
    "pycharm": {
     "name": "#%%\n"
    }
   }
  },
  {
   "cell_type": "code",
   "execution_count": 192,
   "outputs": [
    {
     "name": "stderr",
     "output_type": "stream",
     "text": [
      "C:\\Users\\q1035\\anaconda3\\envs\\intern_lv2\\lib\\site-packages\\ipykernel_launcher.py:4: SettingWithCopyWarning: \n",
      "A value is trying to be set on a copy of a slice from a DataFrame\n",
      "\n",
      "See the caveats in the documentation: https://pandas.pydata.org/pandas-docs/stable/user_guide/indexing.html#returning-a-view-versus-a-copy\n",
      "  after removing the cwd from sys.path.\n",
      "C:\\Users\\q1035\\anaconda3\\envs\\intern_lv2\\lib\\site-packages\\ipykernel_launcher.py:5: SettingWithCopyWarning: \n",
      "A value is trying to be set on a copy of a slice from a DataFrame\n",
      "\n",
      "See the caveats in the documentation: https://pandas.pydata.org/pandas-docs/stable/user_guide/indexing.html#returning-a-view-versus-a-copy\n",
      "  \"\"\"\n"
     ]
    }
   ],
   "source": [
    "# company__name.csv에 symbol, name 데이터 삽입\n",
    "company_word_ = company_word['company_word']\n",
    "company__ = company__name['company']\n",
    "\n",
    "for i,j in enumerate(company_word_):\n",
    "    for k, l in enumerate(company__):\n",
    "        if j==l:\n",
    "            company__name['symbol'][k] = company_word['symbol'][i]\n",
    "            company__name['name'][k] = company_word['name'][i]\n",
    "            break"
   ],
   "metadata": {
    "collapsed": false,
    "pycharm": {
     "name": "#%%\n"
    }
   }
  },
  {
   "cell_type": "code",
   "execution_count": 198,
   "outputs": [
    {
     "name": "stderr",
     "output_type": "stream",
     "text": [
      "C:\\Users\\q1035\\anaconda3\\envs\\intern_lv2\\lib\\site-packages\\ipykernel_launcher.py:7: SettingWithCopyWarning: \n",
      "A value is trying to be set on a copy of a slice from a DataFrame\n",
      "\n",
      "See the caveats in the documentation: https://pandas.pydata.org/pandas-docs/stable/user_guide/indexing.html#returning-a-view-versus-a-copy\n",
      "  import sys\n",
      "C:\\Users\\q1035\\anaconda3\\envs\\intern_lv2\\lib\\site-packages\\pandas\\core\\indexing.py:1732: SettingWithCopyWarning: \n",
      "A value is trying to be set on a copy of a slice from a DataFrame\n",
      "\n",
      "See the caveats in the documentation: https://pandas.pydata.org/pandas-docs/stable/user_guide/indexing.html#returning-a-view-versus-a-copy\n",
      "  self._setitem_single_block(indexer, value, name)\n",
      "C:\\Users\\q1035\\anaconda3\\envs\\intern_lv2\\lib\\site-packages\\ipykernel_launcher.py:8: SettingWithCopyWarning: \n",
      "A value is trying to be set on a copy of a slice from a DataFrame\n",
      "\n",
      "See the caveats in the documentation: https://pandas.pydata.org/pandas-docs/stable/user_guide/indexing.html#returning-a-view-versus-a-copy\n",
      "  \n"
     ]
    }
   ],
   "source": [
    "# company__name.csv에 yahoo finance 정보 수집 내용 삽입\n",
    "yahoo_dataset_mapping_symbol = yahoo_dataset_mapping['new_symbol']\n",
    "company__name_symbol = company__name['symbol']\n",
    "\n",
    "for i,j in enumerate(yahoo_dataset_mapping_symbol):\n",
    "    for k,l in enumerate(company__name_symbol):\n",
    "        if j==l:\n",
    "            company__name['shortName'][k] = yahoo_dataset_mapping['shortName'][i]\n",
    "            company__name['longName'][k] = yahoo_dataset_mapping['longName'][i]\n",
    "            break"
   ],
   "metadata": {
    "collapsed": false,
    "pycharm": {
     "name": "#%%\n"
    }
   }
  },
  {
   "cell_type": "code",
   "execution_count": 201,
   "outputs": [],
   "source": [
    "# 완성된 news_raw dataset\n",
    "company__name.to_csv('C:/projectnasdaq/project2/news_raw_dataset.csv')"
   ],
   "metadata": {
    "collapsed": false,
    "pycharm": {
     "name": "#%%\n"
    }
   }
  },
  {
   "cell_type": "code",
   "execution_count": null,
   "outputs": [],
   "source": [],
   "metadata": {
    "collapsed": false,
    "pycharm": {
     "name": "#%%\n"
    }
   }
  }
 ],
 "metadata": {
  "kernelspec": {
   "display_name": "Python 3",
   "language": "python",
   "name": "python3"
  },
  "language_info": {
   "codemirror_mode": {
    "name": "ipython",
    "version": 2
   },
   "file_extension": ".py",
   "mimetype": "text/x-python",
   "name": "python",
   "nbconvert_exporter": "python",
   "pygments_lexer": "ipython2",
   "version": "2.7.6"
  }
 },
 "nbformat": 4,
 "nbformat_minor": 0
}